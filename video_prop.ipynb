{
 "cells": [
  {
   "cell_type": "code",
   "execution_count": null,
   "outputs": [],
   "source": [
    "import os\n",
    "import cv2\n",
    "\n",
    "def get_video_properties(video_path):\n",
    "    # Open the video file\n",
    "    cap = cv2.VideoCapture(video_path)\n",
    "\n",
    "    if not cap.isOpened():\n",
    "        print(\"Error: Could not open video file.\")\n",
    "        return\n",
    "\n",
    "    # Get video properties\n",
    "    fps = int(cap.get(cv2.CAP_PROP_FPS))\n",
    "    frame_count = int(cap.get(cv2.CAP_PROP_FRAME_COUNT))\n",
    "    width = int(cap.get(cv2.CAP_PROP_FRAME_WIDTH))\n",
    "    height = int(cap.get(cv2.CAP_PROP_FRAME_HEIGHT))\n",
    "    codec = int(cap.get(cv2.CAP_PROP_FOURCC))\n",
    "\n",
    "    # Convert codec to four-character code\n",
    "    codec_fourcc = chr(codec & 0xFF) + chr((codec >> 8) & 0xFF) + chr((codec >> 16) & 0xFF) + chr((codec >> 24) & 0xFF)\n",
    "\n",
    "    # Print video properties\n",
    "    print(f\"FPS: {fps}\")\n",
    "    print(f\"Frame Count: {frame_count}\")\n",
    "    print(f\"Resolution: {width}x{height}\")\n",
    "    print(f\"Codec: {codec_fourcc}\")\n",
    "\n",
    "    # Release the video file\n",
    "    cap.release()"
   ],
   "metadata": {
    "collapsed": false,
    "is_executing": true
   }
  },
  {
   "cell_type": "code",
   "execution_count": null,
   "outputs": [],
   "source": [
    "video_path = r\"C:\\Users\\admin_visia\\Documents\\GitHub\\visia\\visia-flask-backend\\upload\\video_filename_4.mkv\"\n",
    "if os.path.exists(video_path):\n",
    "    get_video_properties(video_path)\n",
    "else:\n",
    "    print(\"Error: Video file does not exist.\")"
   ],
   "metadata": {
    "collapsed": false
   }
  },
  {
   "cell_type": "markdown",
   "source": [],
   "metadata": {
    "collapsed": false
   }
  }
 ],
 "metadata": {
  "kernelspec": {
   "display_name": "Python 3",
   "language": "python",
   "name": "python3"
  },
  "language_info": {
   "codemirror_mode": {
    "name": "ipython",
    "version": 2
   },
   "file_extension": ".py",
   "mimetype": "text/x-python",
   "name": "python",
   "nbconvert_exporter": "python",
   "pygments_lexer": "ipython2",
   "version": "2.7.6"
  }
 },
 "nbformat": 4,
 "nbformat_minor": 0
}
